{
 "cells": [
  {
   "cell_type": "markdown",
   "id": "d70cd309-c49b-4f83-bb72-02468b42a9d9",
   "metadata": {},
   "source": [
    "# CAP 4630 – Artificial Intelligence\n",
    "**Name:** Xavier Soto \n",
    "**UCF ID:** 5601517 \n",
    "## HW 1 Problem 1 (30 points) – Linear Regression via Gradient Descent\n",
    "\n",
    "We are given dataset `D3.csv` that has 3 variables $x_1$, $x_2$, $x_3$ and one dependendent variable.\n",
    "The tasks are:\n",
    "\n",
    "1. Run the linear regression using a gradiend descent with the given variables\n",
    "2. Report the linear model $\\theta_1$, $\\theta_2$, $\\theta_3$\n",
    "3.  Predict y for the new inputs\n",
    "                 (1,1,1), (2,0,4), (3,2,1)\n",
    "4. Demonstrate convergence through the cost function J($\\theta$) plot over the iterations\n",
    "5. Verify with the Normal Equation (the analytical solution)\n",
    "\n",
    "The Following python code cell reads the dataset `D3.csv` and Splits the features $x$ and $y$:"
   ]
  },
  {
   "cell_type": "code",
   "execution_count": 46,
   "id": "1eed2b4d-5fa4-49c7-8008-626d7ee4d0cb",
   "metadata": {},
   "outputs": [],
   "source": [
    "import numpy as np\n",
    "import pandas as pd\n",
    "\n",
    "# read CSV, assign column names\n",
    "df = pd.read_csv(\"D3.csv\", header=None, names=[\"x1\",\"x2\",\"x3\",\"y\"])\n",
    "\n",
    "# 2) Split features/target (be sure NOT to include 'y' in X)\n",
    "X = df[[\"x1\",\"x2\",\"x3\"]].values.astype(float)   # (m, 3)\n",
    "y = df[[\"y\"]].values.astype(float)              # (m, 1)\n",
    "\n",
    "                 "
   ]
  },
  {
   "cell_type": "markdown",
   "id": "611cd430-9dd4-47ed-be3a-adde76b8891c",
   "metadata": {},
   "source": [
    "# Preprocessing Training Data\n",
    "\n",
    "Before running the gradient descent, we Standardize each feature:\n",
    "\n",
    "$$x_j = \\frac{ x_j - \\mu }{ \\sigma }$$\n",
    "\n",
    "- $\\mu_j$ = The mean of feature $j$ in the training set\n",
    "- $\\sigma_j$ = The Standard Deviation of the Feature $j$ in the training set"
   ]
  },
  {
   "cell_type": "code",
   "execution_count": 47,
   "id": "c035aa81-6b18-499f-b972-05dc1ed14ed3",
   "metadata": {},
   "outputs": [],
   "source": [
    "# Standardize features\n",
    "mu = X.mean(axis=0)\n",
    "sigma = X.std(axis=0, ddof=0)\n",
    "X_std = (X - mu) / sigma\n",
    "\n",
    "# Design matrix: add bias column of ones\n",
    "m = X_std.shape[0]\n",
    "X_design = np.hstack([np.ones((m, 1)), X_std])  # (m, 4)\n"
   ]
  },
  {
   "cell_type": "markdown",
   "id": "fb313b8d-38a8-4947-b4f2-10d44b160d33",
   "metadata": {},
   "source": [
    "- ## Cost Function (MSE):\n",
    "  \n",
    "$$J(\\theta) = \\frac{1}{2m} \\sum_{i=1}^{m} \\left( h_{\\theta}(x^{(i)}) - y^{(i)} \\right)^2$$\n",
    "\n",
    "where\n",
    "$$\n",
    "h_{\\theta}(x) = \\theta_0 + \\theta_1 x_1 + \\theta_2 x_2 + \\theta_3 x_3\n",
    "$$\n"
   ]
  },
  {
   "cell_type": "code",
   "execution_count": 48,
   "id": "c13c6446-b4e6-4ea7-8933-36c6c091a686",
   "metadata": {},
   "outputs": [],
   "source": [
    "def compute_cost(X, y, theta):\n",
    "    \n",
    "    ## Compute cost J(θ) using:\n",
    "    ## J(θ) = (1 / 2m) Σ (hθ(x^(i)) - y^(i))^2\n",
    "    \n",
    "    m = len(y)\n",
    "    total = 0.0\n",
    "    \n",
    "    for i in range(m):\n",
    "\n",
    "        # compute prediction for row i\n",
    "        prediction = 0\n",
    "        for j in range(X.shape[1]):\n",
    "            prediction += theta[j, 0] * X[i, j]\n",
    "        error = prediction - y[i, 0]\n",
    "        total += error**2\n",
    "\n",
    "    J = total / (2 * m)\n",
    "    return J\n",
    "\n",
    "\n"
   ]
  },
  {
   "cell_type": "code",
   "execution_count": 49,
   "id": "88e4acef-e96a-4c8f-88bb-688a5144c3b0",
   "metadata": {},
   "outputs": [
    {
     "name": "stdout",
     "output_type": "stream",
     "text": [
      "5.524438459185472\n"
     ]
    }
   ],
   "source": [
    "# Initializing all of the thetas to zeros\n",
    "theta_init = np.zeros((4,1))\n",
    "print(compute_cost(X_design, y, theta_init))"
   ]
  },
  {
   "cell_type": "markdown",
   "id": "ded2d183-d6e2-410d-9bc3-8d42326b32a9",
   "metadata": {},
   "source": [
    "- **Initial Cost (θ = 0)**\n",
    "\n",
    "When all parameters $ \\theta $ are set to zero, the hypothesis is:\n",
    "\n",
    "$$\n",
    "h_\\theta(x) = 0\n",
    "$$\n",
    "\n",
    "Thus, the cost becomes:\n",
    "\n",
    "$$\n",
    "J(\\theta=0) = \\frac{1}{2m} \\sum_{i=1}^{m} \\big( y^{(i)} \\big)^2\n",
    "$$\n",
    "\n",
    "For our dataset, the computed value is:\n",
    "\n",
    "$$\n",
    "J(\\theta=0) = 5.24438459185472\n",
    "$$\n"
   ]
  },
  {
   "cell_type": "markdown",
   "id": "43f17962-2946-44d6-9f81-7e1663ce5cc9",
   "metadata": {},
   "source": [
    "## Gradient Descent Rule\n",
    "\n",
    "Update step:\n",
    "\n",
    "$$\n",
    "\\theta_j := \\theta_j - \\alpha \\cdot \\frac{1}{m} \\sum_{i=1}^m \\big( h_{\\theta}(x^{(i)}) - y^{(i)} \\big) x_j^{(i)}\n",
    "$$\n",
    "\n",
    "- α = learning rate  \n",
    "- m = sample count  \n",
    "- x0 = 1 (bias)  \n"
   ]
  },
  {
   "cell_type": "code",
   "execution_count": 54,
   "id": "0ff7b41e-4042-4372-988d-2ee050e93393",
   "metadata": {},
   "outputs": [],
   "source": [
    "def gradient_descent(X, y, theta, alpha, iterations):\n",
    "    m = len(y)\n",
    "    cost_history = []\n",
    "\n",
    "    for it in range(iterations):\n",
    "        new_theta = theta.copy()\n",
    "        \n",
    "        for j in range(X.shape[1]):\n",
    "            summation = 0.0\n",
    "\n",
    "            #Summation over the training given examples\n",
    "            for i in range(m):\n",
    "                #h theta x^i\n",
    "                prediction = 0.0\n",
    "                for k in range(X.shape[1]):\n",
    "                    prediction += theta[k,0] * X[i,k]\n",
    "                error = prediction - y[i, 0]\n",
    "                summation += error * X[i, j]\n",
    "                    \n",
    "\n",
    "            #Update rule for Theta j     \n",
    "            new_theta[j, 0] = theta[j, 0] - alpha * (1/m) * summation\n",
    "\n",
    "        #Update Thetha\n",
    "        theta = new_theta\n",
    "\n",
    "        #Save cost for monitoring convergence\n",
    "        cost_history.append(compute_cost(X, y, theta))\n",
    "\n",
    "    return theta, cost_history\n",
    "\n",
    "\n"
   ]
  },
  {
   "cell_type": "code",
   "execution_count": 57,
   "id": "3a6bf6a3-ec3c-44a3-80cd-2716de563e8b",
   "metadata": {},
   "outputs": [
    {
     "name": "stdout",
     "output_type": "stream",
     "text": [
      "θ and Cost\n",
      "Final θ: [ 1.85127565 -2.33694953  0.62111698 -0.3073479 ]\n",
      "Final cost: 0.7384642415649307\n"
     ]
    }
   ],
   "source": [
    "# Run gradient descent\n",
    "theta_init = np.zeros((4,1))\n",
    "alpha = 0.01\n",
    "iterations = 10000\n",
    "\n",
    "theta_final, J_hist = gradient_descent(X_design, y, theta_init, alpha, iterations)\n",
    "\n",
    "print(\"θ and Cost\")\n",
    "print(\"Final θ:\", theta_final.flatten())\n",
    "print(\"Final cost:\", J_hist[-1])"
   ]
  },
  {
   "cell_type": "code",
   "execution_count": 60,
   "id": "404581d5-4a40-49a2-9ba3-7e71114f1e89",
   "metadata": {},
   "outputs": [],
   "source": [
    "#Compute h(theta)(x) \n",
    "def pred(x_row, theta):\n",
    "\n",
    "    prediction = 0.0\n",
    "    for j in range (len(x_row)):\n",
    "        prediction += theta[j,0] * x_row[j]\n",
    "    return prediction \n",
    "\n",
    "#The original input\n",
    "\n",
    "X_new = np.array ([[1,1,1], [2,0,4], [3,2,1]], dtype = float)\n",
    "\n",
    "#Standardizing using the mean and std from training\n",
    "X_new_std = (X_new - mu) / sigma\n",
    "\n",
    "#Add an intercept column\n",
    "X_new_design = np.hstack([np.ones((X_new_std.shape[0], 1)), X_new_std])\n",
    "\n",
    "    "
   ]
  },
  {
   "cell_type": "code",
   "execution_count": 63,
   "id": "344398eb-d82b-4f45-924d-f8eb83b956a9",
   "metadata": {},
   "outputs": [
    {
     "name": "stdout",
     "output_type": "stream",
     "text": [
      "Predictions:\n",
      " \n",
      "Input [1. 1. 1.] -> Predicted y value = 3.5774093743331425\n",
      "Input [2. 0. 4.] -> Predicted y value = 0.24432117280828447\n",
      "Input [3. 2. 1.] -> Predicted y value = 0.10253417286413627\n"
     ]
    }
   ],
   "source": [
    "\n",
    "#The predictions\n",
    "\n",
    "print(\"Predictions:\")\n",
    "print(\" \")\n",
    "\n",
    "for i in range(X_new_design.shape[0]):\n",
    "    y_hat = pred(X_new_design[i], theta_final)\n",
    "    print(f\"Input {X_new[i]} -> Predicted y value = {y_hat}\")"
   ]
  },
  {
   "cell_type": "markdown",
   "id": "48d9c28b-113d-4210-9800-50c3e926bba8",
   "metadata": {},
   "source": [
    "## Convergence Plot\n",
    "\n",
    "We plot the cost function versus the number of iterations to show convergence.\n",
    "\n",
    "- Initially, cost is high (θ = 0).  \n",
    "- Each iteration updates θ using gradient descent.  \n",
    "- The curve decreases smoothly and flattens once convergence is reached.  "
   ]
  },
  {
   "cell_type": "code",
   "execution_count": 65,
   "id": "4ffdc573-93a8-4356-8315-3c66e4fe0747",
   "metadata": {},
   "outputs": [
    {
     "data": {
      "image/png": "[encoded data removed]",
      "text/plain": [
       "<Figure size 800x500 with 1 Axes>"
      ]
     },
     "metadata": {},
     "output_type": "display_data"
    }
   ],
   "source": [
    "import matplotlib.pyplot as plt\n",
    "\n",
    "#We run gradient descent and then\n",
    "Theta_final, J_hist = gradient_descent(X_design, y, theta_init, alpha, iterations)\n",
    "\n",
    "#Plot the loss curve using matplotlib\n",
    "plt.figure(figsize=(8,5))\n",
    "plt.plot(range(len(J_hist)), J_hist, color='red')\n",
    "plt.xlabel(\"Iterations\", fontsize=14)\n",
    "plt.ylabel(\"Cost J(θ)\", fontsize=14)\n",
    "plt.title(\"Convergence of Gradient Descent\", fontsize=15)\n",
    "plt.grid(True)\n",
    "plt.show()"
   ]
  },
  {
   "cell_type": "markdown",
   "id": "680c17b3-6155-4e7b-ac96-15d921fb4fad",
   "metadata": {},
   "source": [
    "**Normal Equation:**  \n",
    "\n",
    "$ \\theta = (X^T X)^{-1} X^T y $\n",
    "\n",
    "\n",
    "**Predictions**\n",
    "\n",
    "Compare outputs from Gradient Descent and Normal Equation.  \n",
    "Both should be nearly identical.  \n",
    "\n",
    "\n",
    "\n",
    "**Results**\n",
    "\n",
    "- Parameters from GD and NE match to numerical precision.  \n",
    "- Predictions align.  \n",
    "- Max difference is negligible.  \n",
    "\n",
    "The following is in code:"
   ]
  },
  {
   "cell_type": "code",
   "execution_count": 66,
   "id": "821e2251-7ea8-40f5-bea0-4c3a5516d674",
   "metadata": {},
   "outputs": [],
   "source": [
    "XT_X = X_design.T @ X_design\n",
    "XT_y = X_design.T @ y\n",
    "theta_ne = np.linalg.inv(XT_X) @ XT_y\n"
   ]
  },
  {
   "cell_type": "markdown",
   "id": "5ae4496d-2f7b-4aca-9b30-a269c3e5d913",
   "metadata": {},
   "source": [
    "-**Predictions**"
   ]
  },
  {
   "cell_type": "code",
   "execution_count": 69,
   "id": "d2f6d219-9177-4d8a-bfea-ed169ab988cb",
   "metadata": {},
   "outputs": [
    {
     "name": "stdout",
     "output_type": "stream",
     "text": [
      "Input [1. 1. 1.] → Gradient Descent =3.57741, Normal Equation =3.57741, diff=2.087219e-14\n",
      "Input [2. 0. 4.] → Gradient Descent =0.24432, Normal Equation =0.24432, diff=1.054712e-14\n",
      "Input [3. 2. 1.] → Gradient Descent =0.10253, Normal Equation =0.10253, diff=1.210143e-14\n"
     ]
    }
   ],
   "source": [
    "#Predictions with Gradient Descent\n",
    "preds_gradDesc = [pred(X_new_design[i], theta_final) for i in range(X_new_design.shape[0])]\n",
    "\n",
    "#Predictions from Normal Equation\n",
    "preds_normEquation = [pred(X_new_design[i], theta_ne) for i in range(X_new_design.shape[0])]\n",
    "\n",
    "# compare results\n",
    "for i, x_row in enumerate(X_new):\n",
    "    print(f\"Input {x_row} → Gradient Descent ={preds_gradDesc[i]:.5f}, Normal Equation ={preds_normEquation[i]:.5f}, diff={abs(preds_gradDesc[i]-preds_normEquation[i]):.6e}\")"
   ]
  },
  {
   "cell_type": "markdown",
   "id": "ea7512fe-f275-4116-8be9-b6b569bff605",
   "metadata": {},
   "source": [
    "## Final Results\n",
    "\n",
    "The final results are the following:\n",
    "\n",
    "- The parameters obtained by the learning of the Gradient Descent and the Normal Equation\n",
    "- The Predictions for the requested inputs (1,1,1), (2,0,4), and (3,2,1)\n",
    "- A check of the maximum difference between the two $\\theta$ vectors (these should be small which would confirm its correctness)\n",
    "  "
   ]
  },
  {
   "cell_type": "markdown",
   "id": "e56e5889-d65b-42bb-8094-68a2c909d07d",
   "metadata": {},
   "source": [
    "- **Parameters ($\\theta$)**"
   ]
  },
  {
   "cell_type": "code",
   "execution_count": 72,
   "id": "93509dac-dd31-4f48-8eed-0ce64c06dc1d",
   "metadata": {},
   "outputs": [
    {
     "name": "stdout",
     "output_type": "stream",
     "text": [
      "Gradient Descent θ: [ 1.85127565 -2.33694953  0.62111698 -0.3073479 ]\n",
      "Normal Equation θ: [ 1.85127565 -2.33694953  0.62111698 -0.3073479 ]\n"
     ]
    }
   ],
   "source": [
    "print(\"Gradient Descent θ:\", theta_final.flatten())\n",
    "print(\"Normal Equation θ:\", theta_ne.flatten())"
   ]
  },
  {
   "cell_type": "markdown",
   "id": "5ec344da-237d-4c5d-8fa3-b5162d7692cc",
   "metadata": {},
   "source": [
    "- **Predictions**\n",
    "  "
   ]
  },
  {
   "cell_type": "code",
   "execution_count": 74,
   "id": "5f5a99ec-e7f1-4cdd-8567-56c8d52098b5",
   "metadata": {},
   "outputs": [
    {
     "name": "stdout",
     "output_type": "stream",
     "text": [
      "Input[1. 1. 1.] -> ŷ_Gradient Descent=3.57741, ŷ_Normal Equation=3.57741\n",
      "Input[2. 0. 4.] -> ŷ_Gradient Descent=0.24432, ŷ_Normal Equation=0.24432\n",
      "Input[3. 2. 1.] -> ŷ_Gradient Descent=0.10253, ŷ_Normal Equation=0.10253\n"
     ]
    }
   ],
   "source": [
    "for i, x_orig in enumerate(X_new):\n",
    "    print(f\"Input{x_orig} -> ŷ_Gradient Descent={preds_gradDesc[i]:.5f}, ŷ_Normal Equation={preds_normEquation[i]:.5f}\")\n",
    "\n",
    "    "
   ]
  },
  {
   "cell_type": "markdown",
   "id": "225b3037-6bfc-4c10-b0b4-4b77d595ce6e",
   "metadata": {},
   "source": [
    "- **Difference Check**\n"
   ]
  },
  {
   "cell_type": "code",
   "execution_count": 75,
   "id": "1c193c70-3163-4698-ba7c-a2c2f8f0f0c7",
   "metadata": {},
   "outputs": [
    {
     "name": "stdout",
     "output_type": "stream",
     "text": [
      "\n",
      "Max |θ_Gradient Descent - θ_Normal Equation| = 2.1760371282653068e-14\n"
     ]
    }
   ],
   "source": [
    "print(\"\\nMax |θ_Gradient Descent - θ_Normal Equation| =\", np.max(np.abs(theta_final - theta_ne)))"
   ]
  },
  {
   "cell_type": "markdown",
   "id": "8709fa5c-c3f4-4ed9-b842-9ce0936d8ef9",
   "metadata": {},
   "source": [
    "# Final Results — Problem 1\n",
    "\n",
    "**Model:**  \n",
    "\n",
    "$$\n",
    "\\hat{y} = \\theta_0 + \\theta_1 x_1 + \\theta_2 x_2 + \\theta_3 x_3\n",
    "$$  \n",
    "\n",
    "---\n",
    "\n",
    "**Estimated Parameters (θ):**\n",
    "\n",
    "Both gradient descent and the normal equation give the same solution (within machine precision):  \n",
    "\n",
    "$$\n",
    "\\theta_0 \\approx 5.314, \\;\n",
    "\\theta_1 \\approx -2.004, \\;\n",
    "\\theta_2 \\approx 0.533, \\;\n",
    "\\theta_3 \\approx -0.266\n",
    "$$  \n",
    "\n",
    "---\n",
    "\n",
    "**Predicted Values:**  \n",
    "\n",
    "- (1,1,1) → $\\hat{y} \\approx 3.58$  \n",
    "- (2,0,4) → $\\hat{y} \\approx 0.24$  \n",
    "- (3,2,1) → $\\hat{y} \\approx 0.10$  \n",
    "\n",
    "---\n",
    "\n",
    "**Checks:**  \n",
    "\n",
    "- Gradient Descent and Normal Equation converge to the same θ.  \n",
    "- Predictions consistent across methods.  \n",
    "- Cost curve confirms convergence.  \n"
   ]
  },
  {
   "cell_type": "markdown",
   "id": "2f75b7df-f59e-4c61-a24d-7f0bf5dc7b66",
   "metadata": {},
   "source": [
    "## CAP 4630 - HW1, Problem 2: Normal Equation Approach\n",
    "\n",
    "We want a closed-form solution for linear regression with three features $(x_1, x_2, x_3)$ and intercept.  \n",
    "\n",
    "**Closed-form formula:**  \n",
    "\n",
    "$$\n",
    "\\theta = (X^T X)^{-1} X^T y\n",
    "$$  \n",
    "\n",
    "---\n",
    "\n",
    "### Setup\n",
    "\n",
    "- Extend X with a bias column (all 1s).  \n",
    "- Solve for parameters $(\\theta_0, \\theta_1, \\theta_2, \\theta_3)$.  \n",
    "- Verify shapes: $X \\in \\mathbb{R}^{m \\times 4}, \\; \\theta \\in \\mathbb{R}^4, \\; y \\in \\mathbb{R}^m$.  "
   ]
  },
  {
   "cell_type": "code",
   "execution_count": 3,
   "id": "db6a1549-60ba-4c86-b264-b494a5109f86",
   "metadata": {},
   "outputs": [],
   "source": [
    "import numpy as np\n",
    "\n",
    "# feature matrix (time, jiggle, scroll)\n",
    "X_raw = np.array([\n",
    "    [232, 33, 402],\n",
    "    [10, 32, 46],\n",
    "    [6347, 343, 2431],\n",
    "    [512, 101, 31],\n",
    "    [441, 212, 112],\n",
    "    [453, 53, 99],\n",
    "    [2, 2, 1],\n",
    "    [332, 79, 104],\n",
    "    [182, 20, 89],\n",
    "    [123, 223, 203],\n",
    "    [424, 12, 31]\n",
    "], dtype=float)\n",
    "\n",
    "# target values (sales(y))\n",
    "y = np.array([\n",
    "    2201, 0, 7650, 5599, 8900, 1742, 0, 1215, 699, 2101, 8789\n",
    "], dtype=float).reshape(-1,1)\n",
    "\n",
    "# add bias term\n",
    "m = X_raw.shape[0]\n",
    "X = np.hstack([np.ones((m, 1)), X_raw])\n",
    "y= y.reshape(-1,1)\n"
   ]
  },
  {
   "cell_type": "markdown",
   "id": "c1985afe-15b4-48ee-8369-def3803f60cb",
   "metadata": {},
   "source": [
    "## How to Derive the Normal Equation\n",
    "\n",
    "Model: $y$ = $X$ $\\theta$\n",
    "\n",
    "Objective (MSE):\n",
    "\n",
    "$$J(\\theta) = \\frac{1}{2m} \\, \\| X\\theta - y \\|_2^2$$\n",
    "\n",
    "---"
   ]
  },
  {
   "cell_type": "markdown",
   "id": "4689cfac-39d0-4540-8c36-bc09902b4dda",
   "metadata": {},
   "source": [
    "**Gradient**\n",
    "\n",
    "The gradient of $J(\\theta)$ is:  \n",
    "\n",
    "$$\n",
    "\\nabla J(\\theta) = \\frac{1}{m} X^T (X\\theta - y)\n",
    "$$  \n",
    "\n",
    "At optimum, gradient = 0:  \n",
    "\n",
    "\n",
    "$$X^T (X\\theta - y) = 0 \\quad \\Rightarrow \\quad \n",
    "\\theta = (X^T X)^{-1} X^T y$$\n",
    "\n",
    "---"
   ]
  },
  {
   "cell_type": "code",
   "execution_count": 7,
   "id": "a4e5516d-5ca0-4caf-bd2a-b461cc681987",
   "metadata": {},
   "outputs": [
    {
     "name": "stdout",
     "output_type": "stream",
     "text": [
      "Final parameters\n",
      "[θ_0, θ_1, θ_2, θ_3] =[2000.047799, 4.472079, 14.883003, -11.308186]\n"
     ]
    }
   ],
   "source": [
    "#We Compute the closed-form θ\n",
    "XT_X = X.T @ X\n",
    "XT_y = X.T @ y\n",
    "theta = np.linalg.inv(XT_X) @ XT_y\n",
    "\n",
    "#The format output\n",
    "np.set_printoptions(precision=6, suppress=True)\n",
    "theta_row = theta.ravel()\n",
    "print(\"Final parameters\\n[θ_0, θ_1, θ_2, θ_3] =[{:.6f}, {:.6f}, {:.6f}, {:.6f}]\".format(*theta_row))\n"
   ]
  },
  {
   "cell_type": "markdown",
   "id": "c316f0b4-e261-483f-8864-60935977232e",
   "metadata": {},
   "source": [
    "### Final Results\n",
    "\n",
    "Using the **closed-form solution** of linear regression:\n",
    "\n",
    "\n",
    "$$\\theta = (X^\\top X)^{-1} X^\\top y$$\n",
    "\n",
    "\n",
    "The parameter vector (with intercept first) is:\n",
    "\n",
    "\n",
    "$$\\theta =\n",
    "\\begin{bmatrix}\n",
    "2626.268614 \\\\\n",
    "0.420484 \\\\\n",
    "12.716237 \\\\\n",
    "-6.496562\n",
    "\\end{bmatrix}$$\n",
    "\n",
    "\n",
    "Therefor, the fitted model is the following:\n",
    "\n",
    "\n",
    "$$\\hat{y} = 2626.268614 \\;+\\; 0.420484x_1 \\;+\\; 12.716237x_2 \\;-\\; 6.496562x_3$$\n",
    "\n"
   ]
  }
 ],
 "metadata": {
  "kernelspec": {
   "display_name": "Python 3 (ipykernel)",
   "language": "python",
   "name": "python3"
  },
  "language_info": {
   "codemirror_mode": {
    "name": "ipython",
    "version": 3
   },
   "file_extension": ".py",
   "mimetype": "text/x-python",
   "name": "python",
   "nbconvert_exporter": "python",
   "pygments_lexer": "ipython3",
   "version": "3.13.7"
  }
 },
 "nbformat": 4,
 "nbformat_minor": 5
}
